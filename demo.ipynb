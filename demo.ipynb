{
 "cells": [
  {
   "cell_type": "code",
   "execution_count": 1,
   "metadata": {},
   "outputs": [],
   "source": [
    "import pandas as pd\n",
    "import numpy as np"
   ]
  },
  {
   "cell_type": "code",
   "execution_count": 2,
   "metadata": {},
   "outputs": [],
   "source": [
    "import json"
   ]
  },
  {
   "cell_type": "code",
   "execution_count": 3,
   "metadata": {},
   "outputs": [
    {
     "data": {
      "text/html": [
       "<div>\n",
       "<style scoped>\n",
       "    .dataframe tbody tr th:only-of-type {\n",
       "        vertical-align: middle;\n",
       "    }\n",
       "\n",
       "    .dataframe tbody tr th {\n",
       "        vertical-align: top;\n",
       "    }\n",
       "\n",
       "    .dataframe thead th {\n",
       "        text-align: right;\n",
       "    }\n",
       "</style>\n",
       "<table border=\"1\" class=\"dataframe\">\n",
       "  <thead>\n",
       "    <tr style=\"text-align: right;\">\n",
       "      <th></th>\n",
       "      <th>ID</th>\n",
       "      <th>Ten</th>\n",
       "      <th>TenKhoaHoc</th>\n",
       "      <th>ChiID</th>\n",
       "    </tr>\n",
       "  </thead>\n",
       "  <tbody>\n",
       "    <tr>\n",
       "      <th>0</th>\n",
       "      <td>532</td>\n",
       "      <td>Cá bò ba gai mõm ngắn</td>\n",
       "      <td>Triacanthus biaculeatus (Bloch, 1786)</td>\n",
       "      <td>158</td>\n",
       "    </tr>\n",
       "    <tr>\n",
       "      <th>1</th>\n",
       "      <td>531</td>\n",
       "      <td>Cá bơn lưỡi</td>\n",
       "      <td>Cynoglosssus monopus (Bleeker, 1849)</td>\n",
       "      <td>135</td>\n",
       "    </tr>\n",
       "    <tr>\n",
       "      <th>2</th>\n",
       "      <td>530</td>\n",
       "      <td>Cá bống râu</td>\n",
       "      <td>Triaenopogon barbatus (Gunther, 1861)</td>\n",
       "      <td>183</td>\n",
       "    </tr>\n",
       "    <tr>\n",
       "      <th>3</th>\n",
       "      <td>529</td>\n",
       "      <td>Cá kẽm hoa</td>\n",
       "      <td>Plectorhynchus pictus (Thunberg, 1792)</td>\n",
       "      <td>149</td>\n",
       "    </tr>\n",
       "    <tr>\n",
       "      <th>4</th>\n",
       "      <td>528</td>\n",
       "      <td>Cá hồng vàng sọc mờ</td>\n",
       "      <td>Lutianus lineolatus (Ruppell, 1829)</td>\n",
       "      <td>148</td>\n",
       "    </tr>\n",
       "    <tr>\n",
       "      <th>5</th>\n",
       "      <td>527</td>\n",
       "      <td>Cá hồng chấm</td>\n",
       "      <td>Lutianus johnii (Bloch, 1792)</td>\n",
       "      <td>148</td>\n",
       "    </tr>\n",
       "  </tbody>\n",
       "</table>\n",
       "</div>"
      ],
      "text/plain": [
       "    ID                    Ten                              TenKhoaHoc  ChiID\n",
       "0  532  Cá bò ba gai mõm ngắn   Triacanthus biaculeatus (Bloch, 1786)    158\n",
       "1  531            Cá bơn lưỡi    Cynoglosssus monopus (Bleeker, 1849)    135\n",
       "2  530            Cá bống râu   Triaenopogon barbatus (Gunther, 1861)    183\n",
       "3  529             Cá kẽm hoa  Plectorhynchus pictus (Thunberg, 1792)    149\n",
       "4  528    Cá hồng vàng sọc mờ     Lutianus lineolatus (Ruppell, 1829)    148\n",
       "5  527           Cá hồng chấm          Lutianus johnii (Bloch, 1792)     148"
      ]
     },
     "execution_count": 3,
     "metadata": {},
     "output_type": "execute_result"
    }
   ],
   "source": [
    "df = pd.read_excel(r'DVDK_DL_BB_1.xlsx')\n",
    "loai = pd.read_json('loai.json')\n",
    "\n",
    "#print(df)\n",
    "loai.head(6)\n"
   ]
  },
  {
   "cell_type": "code",
   "execution_count": 4,
   "metadata": {},
   "outputs": [
    {
     "name": "stdout",
     "output_type": "stream",
     "text": [
      "<class 'pandas.core.frame.DataFrame'>\n",
      "RangeIndex: 39 entries, 0 to 38\n",
      "Data columns (total 3 columns):\n",
      " #   Column          Non-Null Count  Dtype \n",
      "---  ------          --------------  ----- \n",
      " 0   STT             12 non-null     object\n",
      " 1   Tên khoa học    39 non-null     object\n",
      " 2   Tên Tiếng Việt  5 non-null      object\n",
      "dtypes: object(3)\n",
      "memory usage: 1.0+ KB\n",
      "Shape: (39, 3)\n"
     ]
    }
   ],
   "source": [
    "df.info()\n",
    "print('Shape:', df.shape)"
   ]
  },
  {
   "cell_type": "code",
   "execution_count": 5,
   "metadata": {},
   "outputs": [
    {
     "data": {
      "text/plain": [
       "array(['Lumbriconereis notocirrata Fauvel, 1932\\xa0\\xa0',\n",
       "       'Marphysa mossambica Peters, 1854',\n",
       "       'Ancistrosyllis constricta  (Southern, 1921)',\n",
       "       'Nephthys californiensis Hartman, 1938',\n",
       "       'Nephthys gravieriAugener, 1913',\n",
       "       'Ceratonereis burmensis Monro, 1937',\n",
       "       'Dendronereis arborifera  Peter, 1854',\n",
       "       'Tylonereis bogoyawlenskyi Fauvel, 1911',\n",
       "       'Scolelepis indica Fauvel 1928', 'Prionospio pinnata Ehlers, 1901',\n",
       "       'Holothuria scabra Jaeger, 1833',\n",
       "       'Colochirus quandranularis Troschel, 1846'], dtype=object)"
      ]
     },
     "execution_count": 5,
     "metadata": {},
     "output_type": "execute_result"
    }
   ],
   "source": [
    "professor = df[df.STT.notnull()]\n",
    "professor.head(5)\n",
    "professor['Tên khoa học'].values"
   ]
  },
  {
   "cell_type": "code",
   "execution_count": 25,
   "metadata": {},
   "outputs": [
    {
     "name": "stdout",
     "output_type": "stream",
     "text": [
      "Lumbriconereis notocirrata Fauvel, 1932#357\n",
      "Marphysa mossambica Peters, 1854#0\n",
      "Ancistrosyllis constricta  (Southern, 1921)#359\n",
      "Nephthys californiensis Hartman, 1938#360\n",
      "Nephthys gravieriAugener, 1913#0\n",
      "Ceratonereis burmensis Monro, 1937#362\n",
      "Dendronereis arborifera  Peter, 1854#364\n",
      "Tylonereis bogoyawlenskyi Fauvel, 1911#366\n",
      "Scolelepis indica Fauvel 1928#0\n",
      "Prionospio pinnata Ehlers, 1901#0\n",
      "Holothuria scabra Jaeger, 1833#0\n",
      "Colochirus quandranularis Troschel, 1846#369\n"
     ]
    }
   ],
   "source": [
    "for element in professor['Tên khoa học'].values:\n",
    "    #print(element.strip())\n",
    "    check = False\n",
    "    tmp = element.strip()\n",
    "    for loai_element in loai.values:\n",
    "        if element.strip()== loai_element[2].strip():\n",
    "            check = True\n",
    "            tmp = loai_element[2].strip() + \"#\" + str(loai_element[0])\n",
    "    if check==False:\n",
    "        tmp = element.strip() + \"#0\"\n",
    "    print(tmp)\n",
    "        "
   ]
  },
  {
   "cell_type": "code",
   "execution_count": 28,
   "metadata": {},
   "outputs": [],
   "source": [
    "df_demo = pd.DataFrame({'Data': [10, 20, 30, 20, 15, 30, 45]})\n",
    "\n",
    "# Create a Pandas Excel writer using XlsxWriter as the engine.\n",
    "writer = pd.ExcelWriter('BIỂU MẪU - BIỂU PHÂN TÍCH MẪU CÁ#2065.xlsx', engine='xlsxwriter')\n",
    "\n",
    "# Convert the dataframe to an XlsxWriter Excel object.\n",
    "df_demo.to_excel(writer, sheet_name='LoaiDaDangSinhHoc', startrow=3)\n",
    "\n",
    "# Close the Pandas Excel writer and output the Excel file.\n",
    "writer.save()"
   ]
  },
  {
   "cell_type": "code",
   "execution_count": 29,
   "metadata": {},
   "outputs": [],
   "source": [
    "def append_df_to_excel(filename, df, sheet_name='Sheet1', startrow=None,\n",
    "                       truncate_sheet=False, \n",
    "                       **to_excel_kwargs):\n",
    "    \"\"\"\n",
    "    Append a DataFrame [df] to existing Excel file [filename]\n",
    "    into [sheet_name] Sheet.\n",
    "    If [filename] doesn't exist, then this function will create it.\n",
    "\n",
    "    Parameters:\n",
    "      filename : File path or existing ExcelWriter\n",
    "                 (Example: '/path/to/file.xlsx')\n",
    "      df : dataframe to save to workbook\n",
    "      sheet_name : Name of sheet which will contain DataFrame.\n",
    "                   (default: 'Sheet1')\n",
    "      startrow : upper left cell row to dump data frame.\n",
    "                 Per default (startrow=None) calculate the last row\n",
    "                 in the existing DF and write to the next row...\n",
    "      truncate_sheet : truncate (remove and recreate) [sheet_name]\n",
    "                       before writing DataFrame to Excel file\n",
    "      to_excel_kwargs : arguments which will be passed to `DataFrame.to_excel()`\n",
    "                        [can be dictionary]\n",
    "\n",
    "    Returns: None\n",
    "\n",
    "    (c) [MaxU](https://stackoverflow.com/users/5741205/maxu?tab=profile)\n",
    "    \"\"\"\n",
    "    from openpyxl import load_workbook\n",
    "\n",
    "    # ignore [engine] parameter if it was passed\n",
    "    if 'engine' in to_excel_kwargs:\n",
    "        to_excel_kwargs.pop('engine')\n",
    "\n",
    "    writer = pd.ExcelWriter(filename, engine='openpyxl')\n",
    "\n",
    "    # Python 2.x: define [FileNotFoundError] exception if it doesn't exist \n",
    "    try:\n",
    "        FileNotFoundError\n",
    "    except NameError:\n",
    "        FileNotFoundError = IOError\n",
    "\n",
    "\n",
    "    try:\n",
    "        # try to open an existing workbook\n",
    "        writer.book = load_workbook(filename)\n",
    "        \n",
    "        # get the last row in the existing Excel sheet\n",
    "        # if it was not specified explicitly\n",
    "        if startrow is None and sheet_name in writer.book.sheetnames:\n",
    "            startrow = writer.book[sheet_name].max_row\n",
    "\n",
    "        # truncate sheet\n",
    "        if truncate_sheet and sheet_name in writer.book.sheetnames:\n",
    "            # index of [sheet_name] sheet\n",
    "            idx = writer.book.sheetnames.index(sheet_name)\n",
    "            # remove [sheet_name]\n",
    "            writer.book.remove(writer.book.worksheets[idx])\n",
    "            # create an empty sheet [sheet_name] using old index\n",
    "            writer.book.create_sheet(sheet_name, idx)\n",
    "        \n",
    "        # copy existing sheets\n",
    "        writer.sheets = {ws.title:ws for ws in writer.book.worksheets}\n",
    "    except FileNotFoundError:\n",
    "        # file does not exist yet, we will create it\n",
    "        pass\n",
    "\n",
    "    if startrow is None:\n",
    "        startrow = 0\n",
    "\n",
    "    # write out the new sheet\n",
    "    df.to_excel(writer, sheet_name, startrow=startrow, **to_excel_kwargs)\n",
    "\n",
    "    # save the workbook\n",
    "    writer.save()"
   ]
  },
  {
   "cell_type": "code",
   "execution_count": 31,
   "metadata": {},
   "outputs": [],
   "source": [
    "df_demo = pd.DataFrame({'Data': [10, 20, 30, 20, 15, 30, 45]})\n",
    "append_df_to_excel(\"BIỂU MẪU - BIỂU PHÂN TÍCH MẪU CÁ#2065.xlsx\",df_demo,\"LoaiDaDangSinhHoc\", 3)"
   ]
  },
  {
   "cell_type": "code",
   "execution_count": null,
   "metadata": {},
   "outputs": [],
   "source": []
  }
 ],
 "metadata": {
  "kernelspec": {
   "display_name": "Python 3",
   "language": "python",
   "name": "python3"
  },
  "language_info": {
   "codemirror_mode": {
    "name": "ipython",
    "version": 3
   },
   "file_extension": ".py",
   "mimetype": "text/x-python",
   "name": "python",
   "nbconvert_exporter": "python",
   "pygments_lexer": "ipython3",
   "version": "3.8.5"
  }
 },
 "nbformat": 4,
 "nbformat_minor": 4
}
